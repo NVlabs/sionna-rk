{
 "cells": [
  {
   "cell_type": "markdown",
   "metadata": {},
   "source": [
    "# Simulate BLER of NumPy decoder\n",
    "\n",
    "And compare against Sionna reference implementation."
   ]
  },
  {
   "cell_type": "code",
   "execution_count": 1,
   "metadata": {},
   "outputs": [
    {
     "name": "stderr",
     "output_type": "stream",
     "text": [
      "/home/nvidia/.local/lib/python3.10/site-packages/matplotlib/projections/__init__.py:63: UserWarning: Unable to import Axes3D. This may be due to multiple versions of Matplotlib being installed (e.g. as a system package and as a pip package). As a result, the 3D projection is not available.\n",
      "  warnings.warn(\"Unable to import Axes3D. This may be due to multiple versions of \"\n",
      "2025-03-25 20:15:53.524607: E external/local_xla/xla/stream_executor/cuda/cuda_dnn.cc:9373] Unable to register cuDNN factory: Attempting to register factory for plugin cuDNN when one has already been registered\n",
      "2025-03-25 20:15:53.524681: E external/local_xla/xla/stream_executor/cuda/cuda_fft.cc:607] Unable to register cuFFT factory: Attempting to register factory for plugin cuFFT when one has already been registered\n",
      "2025-03-25 20:15:53.526183: E external/local_xla/xla/stream_executor/cuda/cuda_blas.cc:1534] Unable to register cuBLAS factory: Attempting to register factory for plugin cuBLAS when one has already been registered\n"
     ]
    }
   ],
   "source": [
    "import numpy as np\n",
    "import sionna as sn\n",
    "import matplotlib.pyplot as plt\n",
    "from scipy.interpolate import interp1d\n",
    "import tensorflow as tf\n",
    "from sionna.phy.fec.ldpc import LDPC5GEncoder, LDPC5GDecoder\n",
    "\n",
    "from numpy_decoder import *\n"
   ]
  },
  {
   "cell_type": "code",
   "execution_count": null,
   "metadata": {},
   "outputs": [],
   "source": [
    "num_bits_per_symbol = 2\n",
    "\n",
    "constellation = sn.phy.mapping.Constellation(\"qam\", num_bits_per_symbol)\n",
    "\n",
    "mapper = sn.phy.mapping.Mapper(constellation=constellation)\n",
    "demapper = sn.phy.mapping.Demapper(\"maxlog\", constellation=constellation)\n",
    "awgn_channel = sn.phy.channel.AWGN()\n",
    "binary_source = sn.phy.mapping.BinarySource()\n",
    "\n",
    "\n",
    "def decode_np(enc, llr, num_iter):\n",
    "    bs = llr.shape[0]\n",
    "    Zc = enc._z\n",
    "    k = enc.k\n",
    "    n = enc.n\n",
    "    BG = 1 if enc._bg == \"bg1\" else 2\n",
    "    num_vn = 68*Zc if BG == 1 else 52*Zc\n",
    "    parity_start = 22*Zc if BG == 1 else 10*Zc\n",
    "    llr_np = llr.numpy()\n",
    "\n",
    "    llr_ch = np.clip(llr_np/32*127, -127, 127).astype(np.int8)\n",
    "\n",
    "    llr_input = np.zeros((bs, num_vn),dtype=np.int8) # takes care of the punctured bits (initialized to 0 LLR)\n",
    "    llr_input[:,2*Zc:k] =  llr_ch[:,:k-2*Zc] # unpunctured message bits\n",
    "    llr_input[:,k:parity_start] = 127      # shortened bits\n",
    "    llr_input[:,parity_start:parity_start+n-k+2*Zc] = llr_ch[:,k-2*Zc:] # parity bits\n",
    "    uhats = np.zeros((bs, k), dtype=np.uint8)\n",
    "    for i, y in enumerate(llr_input):\n",
    "        u_packed,_ = decode_ldpc(BG, Zc, k, num_iter, y)\n",
    "        uhats[i] = np.unpackbits(u_packed.astype(np.uint8))[:k]\n",
    "    return uhats\n",
    "\n",
    "trials = 1000\n",
    "num_iter = 8\n",
    "\n",
    "bg = 1\n",
    "if bg == 2:\n",
    "    k = 292\n",
    "    n = k + 40*3\n",
    "else:\n",
    "    k = 800\n",
    "    n = 1000\n",
    "\n",
    "# Init Sionna encoder\n",
    "enc = LDPC5GEncoder(k, n)\n",
    "print(f\"BG: {enc._bg}, Z: {enc._z}\")\n",
    "dec = LDPC5GDecoder(enc, hard_out=True, cn_update=\"minsum\", num_iter=num_iter)\n",
    "\n",
    "coderate= k/n\n",
    "\n",
    "ebno_dbs = np.linspace(2, 8, 10)\n",
    "blers_np = np.zeros_like(ebno_dbs, dtype=np.float32)\n",
    "blers_sionna = np.zeros_like(ebno_dbs, dtype=np.float32)\n",
    "\n",
    "sn.phy.config.seed = 42\n",
    "u = binary_source([trials, k])\n",
    "\n",
    "# run Monte Carlo simulation\n",
    "for i, ebno_db in enumerate(ebno_dbs):\n",
    "    no = sn.phy.utils.ebnodb2no(ebno_db, num_bits_per_symbol=num_bits_per_symbol,coderate=coderate)\n",
    "    c = enc(u)\n",
    "    x = mapper(c)\n",
    "    y = awgn_channel(x, no)\n",
    "    llr = -demapper(y,no) # sionna defines LLRs the wrong way around\n",
    "\n",
    "    u_hat_sionna = dec(-llr)\n",
    "    bler_sionna = sn.phy.utils.compute_bler(u, u_hat_sionna)\n",
    "\n",
    "    # run NumPy decoder\n",
    "    u_hat_np = decode_np(enc, llr, num_iter)\n",
    "    bler_np = sn.phy.utils.compute_bler(u, u_hat_np)\n",
    "\n",
    "    blers_sionna[i] = bler_sionna\n",
    "    blers_np[i] = bler_np\n",
    "    if bler_sionna < 1e-5 and bler_np < 1e-5:\n",
    "        break\n"
   ]
  },
  {
   "cell_type": "code",
   "execution_count": 11,
   "metadata": {},
   "outputs": [
    {
     "data": {
      "image/png": "[encoded data removed]",
      "text/plain": [
       "<Figure size 640x480 with 1 Axes>"
      ]
     },
     "metadata": {},
     "output_type": "display_data"
    }
   ],
   "source": [
    "x1 = interp1d(blers_np, ebno_dbs, kind='linear', fill_value=\"extrapolate\")\n",
    "x2 = interp1d(blers_sionna, ebno_dbs, kind='linear', fill_value=\"extrapolate\")\n",
    "delta_snr = abs(x1(0.01).item() - x2(0.01).item())\n",
    "\n",
    "plt.plot(ebno_dbs, blers_sionna, label=f\"Sionna {num_iter} iter\", linestyle='--')\n",
    "plt.plot(ebno_dbs, blers_np, label=f\"NumPy {num_iter} iter\", linestyle='-')\n",
    "\n",
    "\n",
    "plt.yscale(\"log\")\n",
    "plt.xlabel(\"Eb/No [dB]\")\n",
    "plt.ylabel(\"Block Error Rate\")\n",
    "plt.legend()\n",
    "plt.grid()\n",
    "plt.show()"
   ]
  },
  {
   "cell_type": "code",
   "execution_count": null,
   "metadata": {},
   "outputs": [],
   "source": []
  }
 ],
 "metadata": {
  "interpreter": {
   "hash": "31f2aee4e71d21fbe5cf8b01ff0e069b9275f58929596ceb00d14d90e3e16cd6"
  },
  "kernelspec": {
   "display_name": "Python 3",
   "language": "python",
   "name": "python3"
  },
  "language_info": {
   "codemirror_mode": {
    "name": "ipython",
    "version": 3
   },
   "file_extension": ".py",
   "mimetype": "text/x-python",
   "name": "python",
   "nbconvert_exporter": "python",
   "pygments_lexer": "ipython3",
   "version": "3.10.12"
  }
 },
 "nbformat": 4,
 "nbformat_minor": 4
}
